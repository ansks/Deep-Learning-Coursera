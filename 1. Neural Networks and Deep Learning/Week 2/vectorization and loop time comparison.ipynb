{
 "cells": [
  {
   "cell_type": "code",
   "execution_count": 2,
   "metadata": {},
   "outputs": [],
   "source": [
    "import numpy as np\n",
    "import time"
   ]
  },
  {
   "cell_type": "code",
   "execution_count": 4,
   "metadata": {},
   "outputs": [
    {
     "name": "stdout",
     "output_type": "stream",
     "text": [
      "2499693.90653552\n",
      "Vectorized Version: 6.981372833251953 millisecond\n",
      "2499693.906535531\n",
      "Loop Version:  6104.257822036743 millisecond\n"
     ]
    }
   ],
   "source": [
    "size = 10000000\n",
    "\n",
    "a = np.array(np.random.random(size))\n",
    "b = np.array(np.random.random(size))\n",
    "\n",
    "tic = time.time()\n",
    "c = np.dot(a,b)\n",
    "toc = time.time()\n",
    "print(c)\n",
    "print('Vectorized Version:', (toc-tic)*1000, 'millisecond')\n",
    "\n",
    "\n",
    "c = 0\n",
    "tic = time.time()\n",
    "for i in range(size):\n",
    "    c += a[i]*b[i]\n",
    "    \n",
    "toc = time.time()\n",
    "print(c)\n",
    "print('Loop Version: ', (toc-tic)*1000, 'millisecond')"
   ]
  },
  {
   "cell_type": "code",
   "execution_count": 5,
   "metadata": {},
   "outputs": [
    {
     "data": {
      "text/plain": [
       "0.0011434656182168163"
      ]
     },
     "execution_count": 5,
     "metadata": {},
     "output_type": "execute_result"
    }
   ],
   "source": [
    "6.98/6104.25"
   ]
  }
 ],
 "metadata": {
  "kernelspec": {
   "display_name": "Python 3",
   "language": "python",
   "name": "python3"
  },
  "language_info": {
   "codemirror_mode": {
    "name": "ipython",
    "version": 3
   },
   "file_extension": ".py",
   "mimetype": "text/x-python",
   "name": "python",
   "nbconvert_exporter": "python",
   "pygments_lexer": "ipython3",
   "version": "3.7.3"
  }
 },
 "nbformat": 4,
 "nbformat_minor": 4
}
