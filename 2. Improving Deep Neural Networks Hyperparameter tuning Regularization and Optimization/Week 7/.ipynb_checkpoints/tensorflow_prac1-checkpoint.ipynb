{
 "cells": [
  {
   "cell_type": "markdown",
   "metadata": {},
   "source": [
    "# Tensorflow\n",
    "\n",
    "Tensorflow is high level programming language. Which is built on top of C++ and python.\n"
   ]
  },
  {
   "cell_type": "code",
   "execution_count": 1,
   "metadata": {},
   "outputs": [
    {
     "name": "stderr",
     "output_type": "stream",
     "text": [
      "C:\\Users\\anshulkumar.singh\\AppData\\Local\\Continuum\\anaconda3\\envs\\tensorflow_cpu\\lib\\site-packages\\tensorflow\\python\\framework\\dtypes.py:523: FutureWarning: Passing (type, 1) or '1type' as a synonym of type is deprecated; in a future version of numpy, it will be understood as (type, (1,)) / '(1,)type'.\n",
      "  _np_qint8 = np.dtype([(\"qint8\", np.int8, 1)])\n",
      "C:\\Users\\anshulkumar.singh\\AppData\\Local\\Continuum\\anaconda3\\envs\\tensorflow_cpu\\lib\\site-packages\\tensorflow\\python\\framework\\dtypes.py:524: FutureWarning: Passing (type, 1) or '1type' as a synonym of type is deprecated; in a future version of numpy, it will be understood as (type, (1,)) / '(1,)type'.\n",
      "  _np_quint8 = np.dtype([(\"quint8\", np.uint8, 1)])\n",
      "C:\\Users\\anshulkumar.singh\\AppData\\Local\\Continuum\\anaconda3\\envs\\tensorflow_cpu\\lib\\site-packages\\tensorflow\\python\\framework\\dtypes.py:525: FutureWarning: Passing (type, 1) or '1type' as a synonym of type is deprecated; in a future version of numpy, it will be understood as (type, (1,)) / '(1,)type'.\n",
      "  _np_qint16 = np.dtype([(\"qint16\", np.int16, 1)])\n",
      "C:\\Users\\anshulkumar.singh\\AppData\\Local\\Continuum\\anaconda3\\envs\\tensorflow_cpu\\lib\\site-packages\\tensorflow\\python\\framework\\dtypes.py:526: FutureWarning: Passing (type, 1) or '1type' as a synonym of type is deprecated; in a future version of numpy, it will be understood as (type, (1,)) / '(1,)type'.\n",
      "  _np_quint16 = np.dtype([(\"quint16\", np.uint16, 1)])\n",
      "C:\\Users\\anshulkumar.singh\\AppData\\Local\\Continuum\\anaconda3\\envs\\tensorflow_cpu\\lib\\site-packages\\tensorflow\\python\\framework\\dtypes.py:527: FutureWarning: Passing (type, 1) or '1type' as a synonym of type is deprecated; in a future version of numpy, it will be understood as (type, (1,)) / '(1,)type'.\n",
      "  _np_qint32 = np.dtype([(\"qint32\", np.int32, 1)])\n",
      "C:\\Users\\anshulkumar.singh\\AppData\\Local\\Continuum\\anaconda3\\envs\\tensorflow_cpu\\lib\\site-packages\\tensorflow\\python\\framework\\dtypes.py:532: FutureWarning: Passing (type, 1) or '1type' as a synonym of type is deprecated; in a future version of numpy, it will be understood as (type, (1,)) / '(1,)type'.\n",
      "  np_resource = np.dtype([(\"resource\", np.ubyte, 1)])\n"
     ]
    }
   ],
   "source": [
    "import numpy as np\n",
    "import tensorflow as tf"
   ]
  },
  {
   "cell_type": "code",
   "execution_count": 2,
   "metadata": {},
   "outputs": [],
   "source": [
    "# dir(tf)"
   ]
  },
  {
   "cell_type": "markdown",
   "metadata": {},
   "source": [
    "## Minimizing a function using tensorflow \n",
    "\n",
    "We want to minimize following functions using Gradient descent. \n",
    "\n",
    "    J(w) = w^2 - 10w + 25 "
   ]
  },
  {
   "cell_type": "code",
   "execution_count": 3,
   "metadata": {},
   "outputs": [
    {
     "name": "stdout",
     "output_type": "stream",
     "text": [
      "Help on DType in module tensorflow.python.framework.dtypes object:\n",
      "\n",
      "class DType(builtins.object)\n",
      " |  Represents the type of the elements in a `Tensor`.\n",
      " |  \n",
      " |  The following `DType` objects are defined:\n",
      " |  \n",
      " |  * `tf.float16`: 16-bit half-precision floating-point.\n",
      " |  * `tf.float32`: 32-bit single-precision floating-point.\n",
      " |  * `tf.float64`: 64-bit double-precision floating-point.\n",
      " |  * `tf.bfloat16`: 16-bit truncated floating-point.\n",
      " |  * `tf.complex64`: 64-bit single-precision complex.\n",
      " |  * `tf.complex128`: 128-bit double-precision complex.\n",
      " |  * `tf.int8`: 8-bit signed integer.\n",
      " |  * `tf.uint8`: 8-bit unsigned integer.\n",
      " |  * `tf.uint16`: 16-bit unsigned integer.\n",
      " |  * `tf.uint32`: 32-bit unsigned integer.\n",
      " |  * `tf.uint64`: 64-bit unsigned integer.\n",
      " |  * `tf.int16`: 16-bit signed integer.\n",
      " |  * `tf.int32`: 32-bit signed integer.\n",
      " |  * `tf.int64`: 64-bit signed integer.\n",
      " |  * `tf.bool`: Boolean.\n",
      " |  * `tf.string`: String.\n",
      " |  * `tf.qint8`: Quantized 8-bit signed integer.\n",
      " |  * `tf.quint8`: Quantized 8-bit unsigned integer.\n",
      " |  * `tf.qint16`: Quantized 16-bit signed integer.\n",
      " |  * `tf.quint16`: Quantized 16-bit unsigned integer.\n",
      " |  * `tf.qint32`: Quantized 32-bit signed integer.\n",
      " |  * `tf.resource`: Handle to a mutable resource.\n",
      " |  * `tf.variant`: Values of arbitrary types.\n",
      " |  \n",
      " |  In addition, variants of these types with the `_ref` suffix are\n",
      " |  defined for reference-typed tensors.\n",
      " |  \n",
      " |  The `tf.as_dtype()` function converts numpy types and string type\n",
      " |  names to a `DType` object.\n",
      " |  \n",
      " |  Methods defined here:\n",
      " |  \n",
      " |  __eq__(self, other)\n",
      " |      Returns True iff this DType refers to the same type as `other`.\n",
      " |  \n",
      " |  __hash__(self)\n",
      " |      Return hash(self).\n",
      " |  \n",
      " |  __init__(self, type_enum)\n",
      " |      Creates a new `DataType`.\n",
      " |      \n",
      " |      NOTE(mrry): In normal circumstances, you should not need to\n",
      " |      construct a `DataType` object directly. Instead, use the\n",
      " |      `tf.as_dtype()` function.\n",
      " |      \n",
      " |      Args:\n",
      " |        type_enum: A `types_pb2.DataType` enum value.\n",
      " |      \n",
      " |      Raises:\n",
      " |        TypeError: If `type_enum` is not a value `types_pb2.DataType`.\n",
      " |  \n",
      " |  __int__(self)\n",
      " |  \n",
      " |  __ne__(self, other)\n",
      " |      Returns True iff self != other.\n",
      " |  \n",
      " |  __reduce__(self)\n",
      " |      helper for pickle\n",
      " |  \n",
      " |  __repr__(self)\n",
      " |      Return repr(self).\n",
      " |  \n",
      " |  __str__(self)\n",
      " |      Return str(self).\n",
      " |  \n",
      " |  is_compatible_with(self, other)\n",
      " |      Returns True if the `other` DType will be converted to this DType.\n",
      " |      \n",
      " |      The conversion rules are as follows:\n",
      " |      \n",
      " |      ```python\n",
      " |      DType(T)       .is_compatible_with(DType(T))        == True\n",
      " |      DType(T)       .is_compatible_with(DType(T).as_ref) == True\n",
      " |      DType(T).as_ref.is_compatible_with(DType(T))        == False\n",
      " |      DType(T).as_ref.is_compatible_with(DType(T).as_ref) == True\n",
      " |      ```\n",
      " |      \n",
      " |      Args:\n",
      " |        other: A `DType` (or object that may be converted to a `DType`).\n",
      " |      \n",
      " |      Returns:\n",
      " |        True if a Tensor of the `other` `DType` will be implicitly converted to\n",
      " |        this `DType`.\n",
      " |  \n",
      " |  ----------------------------------------------------------------------\n",
      " |  Data descriptors defined here:\n",
      " |  \n",
      " |  __dict__\n",
      " |      dictionary for instance variables (if defined)\n",
      " |  \n",
      " |  __weakref__\n",
      " |      list of weak references to the object (if defined)\n",
      " |  \n",
      " |  as_datatype_enum\n",
      " |      Returns a `types_pb2.DataType` enum value based on this `DType`.\n",
      " |  \n",
      " |  as_numpy_dtype\n",
      " |      Returns a `numpy.dtype` based on this `DType`.\n",
      " |  \n",
      " |  base_dtype\n",
      " |      Returns a non-reference `DType` based on this `DType`.\n",
      " |  \n",
      " |  is_bool\n",
      " |      Returns whether this is a boolean data type\n",
      " |  \n",
      " |  is_complex\n",
      " |      Returns whether this is a complex floating point type.\n",
      " |  \n",
      " |  is_floating\n",
      " |      Returns whether this is a (non-quantized, real) floating point type.\n",
      " |  \n",
      " |  is_integer\n",
      " |      Returns whether this is a (non-quantized) integer type.\n",
      " |  \n",
      " |  is_numpy_compatible\n",
      " |  \n",
      " |  is_quantized\n",
      " |      Returns whether this is a quantized data type.\n",
      " |  \n",
      " |  is_unsigned\n",
      " |      Returns whether this type is unsigned.\n",
      " |      \n",
      " |      Non-numeric, unordered, and quantized types are not considered unsigned, and\n",
      " |      this function returns `False`.\n",
      " |      \n",
      " |      Returns:\n",
      " |        Whether a `DType` is unsigned.\n",
      " |  \n",
      " |  limits\n",
      " |      Return intensity limits, i.e. (min, max) tuple, of the dtype.\n",
      " |      Args:\n",
      " |        clip_negative : bool, optional\n",
      " |            If True, clip the negative range (i.e. return 0 for min intensity)\n",
      " |            even if the image dtype allows negative values.\n",
      " |      Returns\n",
      " |        min, max : tuple\n",
      " |          Lower and upper intensity limits.\n",
      " |  \n",
      " |  max\n",
      " |      Returns the maximum representable value in this data type.\n",
      " |      \n",
      " |      Raises:\n",
      " |        TypeError: if this is a non-numeric, unordered, or quantized type.\n",
      " |  \n",
      " |  min\n",
      " |      Returns the minimum representable value in this data type.\n",
      " |      \n",
      " |      Raises:\n",
      " |        TypeError: if this is a non-numeric, unordered, or quantized type.\n",
      " |  \n",
      " |  name\n",
      " |      Returns the string name for this `DType`.\n",
      " |  \n",
      " |  real_dtype\n",
      " |      Returns the dtype correspond to this dtype's real part.\n",
      " |  \n",
      " |  size\n",
      "\n"
     ]
    }
   ],
   "source": [
    "help(tf.float32)"
   ]
  },
  {
   "cell_type": "markdown",
   "metadata": {},
   "source": [
    "### Tensor flow: High level programming language build on top python and other programming language "
   ]
  },
  {
   "cell_type": "code",
   "execution_count": 4,
   "metadata": {},
   "outputs": [
    {
     "name": "stdout",
     "output_type": "stream",
     "text": [
      "0.0\n"
     ]
    }
   ],
   "source": [
    "## Let's define a variable w:\n",
    "\n",
    "# Variable \n",
    "w = tf.Variable(0, dtype=tf.float32)\n",
    "\n",
    "# Cost\n",
    "# cost = tf.add(tf.add(w**2, tf.multiply(-10., w)), 25)\n",
    "cost = w**2 + -10*w + 25\n",
    "\n",
    "## Optimizer \n",
    "train = tf.train.GradientDescentOptimizer(.01).minimize(cost)  ## Optimizer with learning rate and goal(minimization)\n",
    "\n",
    "# initializing \n",
    "init = tf.global_variables_initializer() ##\n",
    "# Starting a tensorflow \n",
    "session = tf.Session()   ## start tensorflow session \n",
    "session.run(init)  ## initialize Global variables\n",
    "\n",
    "print(session.run(w))  ## Evaluate variables"
   ]
  },
  {
   "cell_type": "code",
   "execution_count": 5,
   "metadata": {},
   "outputs": [
    {
     "name": "stdout",
     "output_type": "stream",
     "text": [
      "0.099999994\n"
     ]
    }
   ],
   "source": [
    "session.run(train)  ## running single iteration at a time\n",
    "print(session.run(w))"
   ]
  },
  {
   "cell_type": "code",
   "execution_count": 6,
   "metadata": {},
   "outputs": [
    {
     "name": "stdout",
     "output_type": "stream",
     "text": [
      "4.9999886\n"
     ]
    }
   ],
   "source": [
    "for i in range(1000):  ## running 1000 iterations at a time\n",
    "    session.run(train)\n",
    "    \n",
    "print(session.run(w))"
   ]
  },
  {
   "cell_type": "markdown",
   "metadata": {},
   "source": [
    "### Once you have defined the cost function, tensorflow knows how to take derivatives. \n",
    "\n",
    "Basically, you have to implement forward prop. Backward prop can be figured out by tensorflow. ## GRADIENT COMPUTATION"
   ]
  },
  {
   "cell_type": "markdown",
   "metadata": {},
   "source": [
    "### While this is good. \n",
    "\n",
    "We need to have the code dynamic rather than static. There is fixed starting point for **w** here. "
   ]
  },
  {
   "cell_type": "code",
   "execution_count": 7,
   "metadata": {},
   "outputs": [],
   "source": [
    "# Creating data \n",
    "coefficients = np.array([[1.],[-4.],[3.]])\n",
    "\n",
    "# Defining a variable\n",
    "w = tf.Variable(0., tf.float32)\n",
    "\n",
    "# Data\n",
    "X = tf.placeholder(tf.float32, [3,1])\n",
    "\n",
    "\n",
    "# cost value \n",
    "cost = X[0][0]*w**2 - w*X[1][0] + X[2][0]\n",
    "\n",
    "# train \n",
    "train = tf.train.GradientDescentOptimizer(.01).minimize(cost)\n",
    "\n",
    "#\n",
    "init = tf.global_variables_initializer()\n",
    "session = tf.Session()\n",
    "session.run(init)"
   ]
  },
  {
   "cell_type": "code",
   "execution_count": 8,
   "metadata": {},
   "outputs": [
    {
     "data": {
      "text/plain": [
       "0.0"
      ]
     },
     "execution_count": 8,
     "metadata": {},
     "output_type": "execute_result"
    }
   ],
   "source": [
    "session.run(w, feed_dict={X:coefficients})"
   ]
  },
  {
   "cell_type": "code",
   "execution_count": 9,
   "metadata": {},
   "outputs": [
    {
     "name": "stdout",
     "output_type": "stream",
     "text": [
      "-1.9999971\n"
     ]
    }
   ],
   "source": [
    "for i in range(1000):\n",
    "    session.run(train, feed_dict={X:coefficients})\n",
    "    \n",
    "print(session.run(w))"
   ]
  },
  {
   "cell_type": "code",
   "execution_count": null,
   "metadata": {},
   "outputs": [],
   "source": []
  }
 ],
 "metadata": {
  "kernelspec": {
   "display_name": "Python 3",
   "language": "python",
   "name": "python3"
  },
  "language_info": {
   "codemirror_mode": {
    "name": "ipython",
    "version": 3
   },
   "file_extension": ".py",
   "mimetype": "text/x-python",
   "name": "python",
   "nbconvert_exporter": "python",
   "pygments_lexer": "ipython3",
   "version": "3.6.10"
  }
 },
 "nbformat": 4,
 "nbformat_minor": 4
}
